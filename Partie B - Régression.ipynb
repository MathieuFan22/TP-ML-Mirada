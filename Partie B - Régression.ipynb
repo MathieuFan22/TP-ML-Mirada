{
 "cells": [
  {
   "cell_type": "markdown",
   "metadata": {},
   "source": [
    "# 🚀 Welcome to Google Colab\n",
    "This is a simple test notebook to check your Colab setup."
   ]
  },
  {
   "cell_type": "code",
   "execution_count": null,
   "metadata": {},
   "outputs": [],
   "source": [
    "# ✅ Test Python\n",
    "print(\"Hello, Colab! ✅\")"
   ]
  },
  {
   "cell_type": "code",
   "execution_count": null,
   "metadata": {},
   "outputs": [],
   "source": [
    "# 🔢 NumPy test\n",
    "import numpy as np\n",
    "a = np.array([1, 2, 3])\n",
    "print(\"Array:\", a)\n",
    "print(\"Mean:\", np.mean(a))"
   ]
  },
  {
   "cell_type": "code",
   "execution_count": null,
   "metadata": {},
   "outputs": [],
   "source": [
    "# 📊 Matplotlib test\n",
    "import matplotlib.pyplot as plt\n",
    "x = np.linspace(0, 10, 100)\n",
    "y = np.sin(x)\n",
    "plt.plot(x, y)\n",
    "plt.title(\"Sine Wave\")\n",
    "plt.xlabel(\"x\")\n",
    "plt.ylabel(\"sin(x)\")\n",
    "plt.grid(True)\n",
    "plt.show()"
   ]
  },
  {
   "cell_type": "code",
   "execution_count": null,
   "metadata": {},
   "outputs": [],
   "source": [
    "# 🤖 Scikit-learn mini test\n",
    "from sklearn.linear_model import LinearRegression\n",
    "X = np.array([[1], [2], [3], [4], [5]])\n",
    "y = np.array([1, 4, 9, 16, 25])\n",
    "model = LinearRegression()\n",
    "model.fit(X, y)\n",
    "print(\"Predicted value for 6:\", model.predict([[6]]))"
   ]
  }
 ],
 "metadata": {
  "kernelspec": {
   "display_name": "Python 3",
   "language": "python",
   "name": "python3"
  },
  "language_info": {
   "name": "python",
   "version": "3.10"
  }
 },
 "nbformat": 4,
 "nbformat_minor": 2
}

